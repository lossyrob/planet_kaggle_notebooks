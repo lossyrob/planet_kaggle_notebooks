{
 "cells": [
  {
   "cell_type": "code",
   "execution_count": 1,
   "metadata": {
    "collapsed": true
   },
   "outputs": [],
   "source": [
    "import os\n",
    "import numpy as np\n",
    "import pandas as pd\n",
    "from skimage.io import imread\n",
    "import matplotlib.pyplot as plt\n",
    "import matplotlib.gridspec as gridspec\n",
    "from os.path import join\n",
    "import cv2"
   ]
  },
  {
   "cell_type": "code",
   "execution_count": 2,
   "metadata": {
    "collapsed": true
   },
   "outputs": [],
   "source": [
    "jpg_folder = '/opt/data/datasets/planet_kaggle/train-jpg'\n",
    "tif_folder = '/opt/data/datasets/planet_kaggle/train-tif-v2'"
   ]
  },
  {
   "cell_type": "code",
   "execution_count": 3,
   "metadata": {
    "collapsed": true
   },
   "outputs": [],
   "source": [
    "names = []\n",
    "\n",
    "for n in os.listdir(jpg_folder):\n",
    "    if n.endswith('.jpg'):\n",
    "        names.append(n.replace('.jpg',''))"
   ]
  },
  {
   "cell_type": "code",
   "execution_count": 4,
   "metadata": {
    "collapsed": true
   },
   "outputs": [],
   "source": [
    "import rastervision"
   ]
  },
  {
   "cell_type": "code",
   "execution_count": 5,
   "metadata": {},
   "outputs": [
    {
     "name": "stderr",
     "output_type": "stream",
     "text": [
      "/opt/conda/lib/python3.5/site-packages/matplotlib/__init__.py:1405: UserWarning: \n",
      "This call to matplotlib.use() has no effect because the backend has already\n",
      "been chosen; matplotlib.use() must be called *before* pylab, matplotlib.pyplot,\n",
      "or matplotlib.backends is imported for the first time.\n",
      "\n",
      "  warnings.warn(_use_error_msg)\n"
     ]
    }
   ],
   "source": [
    "from rastervision.tagging.data.planet_kaggle import TagStore\n"
   ]
  },
  {
   "cell_type": "code",
   "execution_count": 8,
   "metadata": {
    "collapsed": true
   },
   "outputs": [],
   "source": [
    "ts = TagStore(tags_path=\"/opt/data/datasets/planet_kaggle/train_v2.csv\")"
   ]
  },
  {
   "cell_type": "markdown",
   "metadata": {},
   "source": [
    "# ts.binary_to_strs(ts.file_ind_to_tags['train_15295'])"
   ]
  },
  {
   "cell_type": "code",
   "execution_count": 41,
   "metadata": {
    "collapsed": true
   },
   "outputs": [],
   "source": [
    "train_ratio = 0.8\n",
    "nb_train_inds = \\\n",
    "    int(round(train_ratio * len(names)))\n",
    "train = names[0:nb_train_inds]\n",
    "validation = names[nb_train_inds:]\n"
   ]
  },
  {
   "cell_type": "code",
   "execution_count": 42,
   "metadata": {},
   "outputs": [],
   "source": [
    "train_labels = {}\n",
    "val_labels = {}"
   ]
  },
  {
   "cell_type": "code",
   "execution_count": 43,
   "metadata": {},
   "outputs": [],
   "source": [
    "for x in train:\n",
    "    for l in ts.binary_to_strs(ts.file_ind_to_tags[x]):\n",
    "        if not l in train_labels:\n",
    "            train_labels[l] = 0\n",
    "        train_labels[l] += 1\n",
    "for x in validation:\n",
    "    for l in ts.binary_to_strs(ts.file_ind_to_tags[x]):\n",
    "        if not l in val_labels:\n",
    "            val_labels[l] = 0\n",
    "        val_labels[l] += 1\n",
    "        "
   ]
  },
  {
   "cell_type": "code",
   "execution_count": 44,
   "metadata": {},
   "outputs": [
    {
     "data": {
      "text/plain": [
       "{'agriculture': 9859,\n",
       " 'artisinal_mine': 279,\n",
       " 'bare_ground': 696,\n",
       " 'blooming': 275,\n",
       " 'blow_down': 81,\n",
       " 'clear': 22711,\n",
       " 'cloudy': 1652,\n",
       " 'conventional_mine': 79,\n",
       " 'cultivation': 3585,\n",
       " 'habitation': 2972,\n",
       " 'haze': 2165,\n",
       " 'partly_cloudy': 5854,\n",
       " 'primary': 30036,\n",
       " 'road': 6441,\n",
       " 'selective_logging': 271,\n",
       " 'slash_burn': 165,\n",
       " 'water': 5888}"
      ]
     },
     "execution_count": 44,
     "metadata": {},
     "output_type": "execute_result"
    }
   ],
   "source": [
    "train_labels"
   ]
  },
  {
   "cell_type": "code",
   "execution_count": 45,
   "metadata": {},
   "outputs": [
    {
     "data": {
      "text/plain": [
       "{'agriculture': 2456,\n",
       " 'artisinal_mine': 60,\n",
       " 'bare_ground': 166,\n",
       " 'blooming': 57,\n",
       " 'blow_down': 17,\n",
       " 'clear': 5720,\n",
       " 'cloudy': 437,\n",
       " 'conventional_mine': 21,\n",
       " 'cultivation': 892,\n",
       " 'habitation': 688,\n",
       " 'haze': 532,\n",
       " 'partly_cloudy': 1407,\n",
       " 'primary': 7477,\n",
       " 'road': 1630,\n",
       " 'selective_logging': 69,\n",
       " 'slash_burn': 44,\n",
       " 'water': 1523}"
      ]
     },
     "execution_count": 45,
     "metadata": {},
     "output_type": "execute_result"
    }
   ],
   "source": [
    "val_labels"
   ]
  },
  {
   "cell_type": "code",
   "execution_count": 46,
   "metadata": {},
   "outputs": [
    {
     "name": "stdout",
     "output_type": "stream",
     "text": [
      "agriculture:                  0.800568 vs 0.199432\n",
      "water:                        0.794495 vs 0.205505\n",
      "artisinal_mine:               0.823009 vs 0.176991\n",
      "haze:                         0.802744 vs 0.197256\n",
      "selective_logging:            0.797059 vs 0.202941\n",
      "blooming:                     0.828313 vs 0.171687\n",
      "slash_burn:                   0.789474 vs 0.210526\n",
      "road:                         0.798042 vs 0.201958\n",
      "blow_down:                    0.826531 vs 0.173469\n",
      "primary:                      0.800682 vs 0.199318\n",
      "bare_ground:                  0.807425 vs 0.192575\n",
      "clear:                        0.798811 vs 0.201189\n",
      "habitation:                   0.812022 vs 0.187978\n",
      "cultivation:                  0.800759 vs 0.199241\n",
      "conventional_mine:            0.790000 vs 0.210000\n",
      "cloudy:                       0.790809 vs 0.209191\n",
      "partly_cloudy:                0.806225 vs 0.193775\n"
     ]
    }
   ],
   "source": [
    "for k in val_labels:\n",
    "    (t, v) = (train_labels[k], val_labels[k])\n",
    "    print(\"%-30s%f vs %f\" % (k + ':', (t/(t+v)), (v/(t+v))))"
   ]
  },
  {
   "cell_type": "code",
   "execution_count": 47,
   "metadata": {},
   "outputs": [
    {
     "data": {
      "text/plain": [
       "['clear', 'primary']"
      ]
     },
     "execution_count": 47,
     "metadata": {},
     "output_type": "execute_result"
    }
   ],
   "source": [
    "ts.binary_to_strs(ts.file_ind_to_tags[\"train_15474\"])"
   ]
  },
  {
   "cell_type": "code",
   "execution_count": null,
   "metadata": {
    "collapsed": true
   },
   "outputs": [],
   "source": []
  }
 ],
 "metadata": {
  "kernelspec": {
   "display_name": "Python 3",
   "language": "python",
   "name": "python3"
  },
  "language_info": {
   "codemirror_mode": {
    "name": "ipython",
    "version": 3
   },
   "file_extension": ".py",
   "mimetype": "text/x-python",
   "name": "python",
   "nbconvert_exporter": "python",
   "pygments_lexer": "ipython3",
   "version": "3.5.1"
  }
 },
 "nbformat": 4,
 "nbformat_minor": 2
}
