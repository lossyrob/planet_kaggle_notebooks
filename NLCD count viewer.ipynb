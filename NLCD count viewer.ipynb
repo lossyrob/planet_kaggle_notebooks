{
 "cells": [
  {
   "cell_type": "code",
   "execution_count": 1,
   "metadata": {
    "collapsed": true
   },
   "outputs": [],
   "source": [
    "import pandas as pd\n"
   ]
  },
  {
   "cell_type": "code",
   "execution_count": 2,
   "metadata": {},
   "outputs": [
    {
     "data": {
      "text/plain": [
       "{0: 'NoData',\n",
       " 11: 'Open Water',\n",
       " 21: 'Developed, Open Space',\n",
       " 22: 'Developed, Low Intensity',\n",
       " 23: 'Developed, Medium Intensity',\n",
       " 24: 'Developed High Intensity',\n",
       " 31: 'Barren Land (Rock/Sand/Clay)',\n",
       " 41: 'Deciduous Forest',\n",
       " 42: 'Evergreen Forest ',\n",
       " 43: 'Mixed Forest',\n",
       " 52: 'Shrub/Scrub',\n",
       " 71: 'Grassland/Herbaceous',\n",
       " 81: 'Pasture/Hay',\n",
       " 82: 'Cultivated Crops',\n",
       " 90: 'Woody Wetlands',\n",
       " 95: 'Emergent Herbaceous Wetlands'}"
      ]
     },
     "execution_count": 2,
     "metadata": {},
     "output_type": "execute_result"
    }
   ],
   "source": [
    "{0: 'NoData',\n",
    " 11: 'Open Water',\n",
    " 21: 'Developed, Open Space',\n",
    " 22: 'Developed, Low Intensity',\n",
    " 23: 'Developed, Medium Intensity',\n",
    " 24: 'Developed High Intensity',\n",
    " 31: 'Barren Land (Rock/Sand/Clay)',\n",
    " 41: 'Deciduous Forest',\n",
    " 42: 'Evergreen Forest ',\n",
    " 43: 'Mixed Forest',\n",
    " 52: 'Shrub/Scrub',\n",
    " 71: 'Grassland/Herbaceous',\n",
    " 81: 'Pasture/Hay',\n",
    " 82: 'Cultivated Crops',\n",
    " 90: 'Woody Wetlands',\n",
    " 95: 'Emergent Herbaceous Wetlands'}"
   ]
  },
  {
   "cell_type": "code",
   "execution_count": 3,
   "metadata": {
    "collapsed": true
   },
   "outputs": [],
   "source": [
    "counts = {0: 13885992,\n",
    " 11: 1705782,\n",
    " 21: 4311658,\n",
    " 22: 1754228,\n",
    " 23: 538731,\n",
    " 24: 242804,\n",
    " 31: 151266,\n",
    " 41: 30459362,\n",
    " 42: 5879852,\n",
    " 43: 5357079,\n",
    " 52: 3557739,\n",
    " 71: 3158742,\n",
    " 81: 12779780,\n",
    " 82: 2382675,\n",
    " 90: 551091,\n",
    " 95: 52883}"
   ]
  },
  {
   "cell_type": "code",
   "execution_count": null,
   "metadata": {
    "collapsed": true
   },
   "outputs": [],
   "source": []
  }
 ],
 "metadata": {
  "kernelspec": {
   "display_name": "Python 3",
   "language": "python",
   "name": "python3"
  },
  "language_info": {
   "codemirror_mode": {
    "name": "ipython",
    "version": 3
   },
   "file_extension": ".py",
   "mimetype": "text/x-python",
   "name": "python",
   "nbconvert_exporter": "python",
   "pygments_lexer": "ipython3",
   "version": "3.5.1"
  }
 },
 "nbformat": 4,
 "nbformat_minor": 2
}
